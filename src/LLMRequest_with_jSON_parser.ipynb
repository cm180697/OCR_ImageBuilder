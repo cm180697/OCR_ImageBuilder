{
 "cells": [
  {
   "cell_type": "code",
   "execution_count": 4,
   "metadata": {},
   "outputs": [
    {
     "name": "stdout",
     "output_type": "stream",
     "text": [
      "{\n",
      "  \"input\": {\n",
      "    \"prompt\": \"\\\\nThis is a agent/client conversation. Look at QuestionTitle and QuestionContent. Then look at the time and content of fragment. Then decide if the fragment actually belongs to that question.\\\\n\\\\n<QuestionTitle[1]> Information advice given</QuestionTitle>\\\\n<QuestionContent[1]>Agent advises and answers client quesitons and concerns</QuestionContent[1]>\\\\n\\\\n31\\\\n00:09:17,300 --> 00:09:29,740\\\\nSpeaker 0: But  because  of  the  user's  credit,  it's  like,  let's  call  it  that,  it  doesn't  allow  it  to  come  down.  Yes.  Because  you're  taking  out  money  on  the  total  to  pay,  meaning  that  the  price,  these  are  the  average  rates,  will  go  a  little  bit  higher.\\\\n\\\\n32\\\\n00:09:31,280 --> 00:09:34,440\\\\nSpeaker 1: Okay.  That's  what  I  thought.  I  just  wanted  to  make  sure  I  wasn't  missing  anything.  Okay.  Thank  you.\\\\n\\\\n33\\\\n00:09:34,920 --> 00:09:37,060\\\\nSpeaker 0: Awesome,  ma 'am.  Ma 'am,  would  you  like  to  start  a  plan?\\\\n\\\\n34\\\\n00:09:39,140 --> 00:09:41,760\\\\nSpeaker 1: I'm  still  shopping,  but  thank  you  so  much.  I  just  have  questions  about  it.\\\\n\\\\n\\\\n\"\n",
      "  }\n",
      "}\n"
     ]
    }
   ],
   "source": [
    "import json\n",
    "\n",
    "def convert_to_json(raw_text):\n",
    "    # Replace line breaks with \\n and escape double quotes\n",
    "    formatted_text = raw_text.replace('\\n', '\\\\n').replace('\"', '\\\\\"')\n",
    "\n",
    "    # Create the JSON structure\n",
    "    json_structure = {\n",
    "        \"input\": {\n",
    "            \"prompt\": formatted_text\n",
    "        }\n",
    "    }\n",
    "\n",
    "    # Convert the Python dictionary to a JSON string\n",
    "    json_string = json.dumps(json_structure, indent=2)\n",
    "    return json_string\n",
    "\n",
    "# Example usage\n",
    "raw_text = '''\n",
    "This is a agent/client conversation. Look at QuestionTitle and QuestionContent. Then look at the time and content of fragment. Then decide if the fragment actually belongs to that question.\n",
    "\n",
    "<QuestionTitle[1]> Information advice given</QuestionTitle>\n",
    "<QuestionContent[1]>Agent advises and answers client quesitons and concerns</QuestionContent[1]>\n",
    "\n",
    "31\n",
    "00:09:17,300 --> 00:09:29,740\n",
    "Speaker 0: But  because  of  the  user's  credit,  it's  like,  let's  call  it  that,  it  doesn't  allow  it  to  come  down.  Yes.  Because  you're  taking  out  money  on  the  total  to  pay,  meaning  that  the  price,  these  are  the  average  rates,  will  go  a  little  bit  higher.\n",
    "\n",
    "32\n",
    "00:09:31,280 --> 00:09:34,440\n",
    "Speaker 1: Okay.  That's  what  I  thought.  I  just  wanted  to  make  sure  I  wasn't  missing  anything.  Okay.  Thank  you.\n",
    "\n",
    "33\n",
    "00:09:34,920 --> 00:09:37,060\n",
    "Speaker 0: Awesome,  ma 'am.  Ma 'am,  would  you  like  to  start  a  plan?\n",
    "\n",
    "34\n",
    "00:09:39,140 --> 00:09:41,760\n",
    "Speaker 1: I'm  still  shopping,  but  thank  you  so  much.  I  just  have  questions  about  it.\n",
    "\n",
    "\n",
    "'''\n",
    "\n",
    "json_output = convert_to_json(raw_text)\n",
    "print(json_output)"
   ]
  },
  {
   "cell_type": "code",
   "execution_count": 1,
   "metadata": {},
   "outputs": [
    {
     "name": "stdout",
     "output_type": "stream",
     "text": [
      "Requirement already satisfied: requests in c:\\users\\camo\\anaconda3\\lib\\site-packages (2.31.0)\n",
      "Requirement already satisfied: charset-normalizer<4,>=2 in c:\\users\\camo\\anaconda3\\lib\\site-packages (from requests) (2.0.4)\n",
      "Requirement already satisfied: idna<4,>=2.5 in c:\\users\\camo\\anaconda3\\lib\\site-packages (from requests) (3.4)\n",
      "Requirement already satisfied: urllib3<3,>=1.21.1 in c:\\users\\camo\\anaconda3\\lib\\site-packages (from requests) (1.26.16)\n",
      "Requirement already satisfied: certifi>=2017.4.17 in c:\\users\\camo\\anaconda3\\lib\\site-packages (from requests) (2023.7.22)\n"
     ]
    }
   ],
   "source": [
    "!pip install requests"
   ]
  },
  {
   "cell_type": "code",
   "execution_count": 6,
   "metadata": {},
   "outputs": [
    {
     "name": "stdout",
     "output_type": "stream",
     "text": [
      "200\n",
      "{'id': '8a381d08-0cd9-448e-b25d-4d614a30477a-u1', 'status': 'IN_QUEUE'}\n"
     ]
    }
   ],
   "source": [
    "import requests\n",
    "\n",
    "url = 'https://api.runpod.ai/v2/a5l3dxou9z7rk8/run'  # Replace with your URL\n",
    "bearer_token = 'IKT9GXMKUY6F3P0KOXZ5ZMEGB9EN3THWRR3I75XB'   # Replace with your bearer token\n",
    "json_body = {\n",
    "  \"input\": {\n",
    "    \"prompt\": \"\\\\nThis is a agent/client conversation. Look at QuestionTitle and QuestionContent. Then look at the time and content of fragment. Then decide if the fragment actually belongs to that question.\\\\n\\\\n<QuestionTitle[1]> Information advice given</QuestionTitle>\\\\n<QuestionContent[1]>Agent advises and answers client quesitons and concerns</QuestionContent[1]>\\\\n\\\\n31\\\\n00:09:17,300 --> 00:09:29,740\\\\nSpeaker 0: But  because  of  the  user's  credit,  it's  like,  let's  call  it  that,  it  doesn't  allow  it  to  come  down.  Yes.  Because  you're  taking  out  money  on  the  total  to  pay,  meaning  that  the  price,  these  are  the  average  rates,  will  go  a  little  bit  higher.\\\\n\\\\n32\\\\n00:09:31,280 --> 00:09:34,440\\\\nSpeaker 1: Okay.  That's  what  I  thought.  I  just  wanted  to  make  sure  I  wasn't  missing  anything.  Okay.  Thank  you.\\\\n\\\\n33\\\\n00:09:34,920 --> 00:09:37,060\\\\nSpeaker 0: Awesome,  ma 'am.  Ma 'am,  would  you  like  to  start  a  plan?\\\\n\\\\n34\\\\n00:09:39,140 --> 00:09:41,760\\\\nSpeaker 1: I'm  still  shopping,  but  thank  you  so  much.  I  just  have  questions  about  it.\\\\n\\\\n\\\\n\"\n",
    "  }\n",
    "}\n",
    "\n",
    "headers = {\n",
    "    'Authorization': f'Bearer {bearer_token}',\n",
    "    'Content-Type': 'application/json'\n",
    "}\n",
    "\n",
    "response = requests.post(url, json=json_body, headers=headers)\n",
    "\n",
    "print(response.status_code)\n",
    "print(response.json())  # Or response.text if the response is not in JSON format\n"
   ]
  },
  {
   "cell_type": "code",
   "execution_count": 7,
   "metadata": {},
   "outputs": [
    {
     "name": "stdout",
     "output_type": "stream",
     "text": [
      "200\n",
      "{'delayTime': 33917, 'executionTime': 9703, 'id': '8a381d08-0cd9-448e-b25d-4d614a30477a-u1', 'output': 'output: ### Instruction: \\\\nThis is a agent/client conversation. Look at QuestionTitle and QuestionContent. Then look at the time and content of fragment. Then decide if the fragment actually belongs to that question.\\\\n\\\\n<QuestionTitle[1]> Information advice given</QuestionTitle>\\\\n<QuestionContent[1]>Agent advises and answers client quesitons and concerns</QuestionContent[1]>\\\\n\\\\n31\\\\n00:09:17,300 --> 00:09:29,740\\\\nSpeaker 0: But  because  of  the  user\\'s  credit,  it\\'s  like,  let\\'s  call  it  that,  it  doesn\\'t  allow  it  to  come  down.  Yes.  Because  you\\'re  taking  out  money  on  the  total  to  pay,  meaning  that  the  price,  these  are  the  average  rates,  will  go  a  little  bit  higher.\\\\n\\\\n32\\\\n00:09:31,280 --> 00:09:34,440\\\\nSpeaker 1: Okay.  That\\'s  what  I  thought.  I  just  wanted  to  make  sure  I  wasn\\'t  missing  anything.  Okay.  Thank  you.\\\\n\\\\n33\\\\n00:09:34,920 --> 00:09:37,060\\\\nSpeaker 0: Awesome,  ma \\'am.  Ma \\'am,  would  you  like  to  start  a  plan?\\\\n\\\\n34\\\\n00:09:39,140 --> 00:09:41,760\\\\nSpeaker 1: I\\'m  still  shopping,  but  thank  you  so  much.  I  just  have  questions  about  it.\\\\n\\\\n\\\\n <does content belongs to QuestionTitle and QuestionContent? Be extra critical, most of times it doesnt, give a % of correspondance from 0% to 100% and justify>\\n    ### Response: \\n      No, the fragments do not belong to the provided question title or content. The fragments are part of a separate conversation regarding a different topic.\\n      Correspondence percentage: 0%.\\n    \\n    Here\\'s why:\\n    \\n    * The question title \"Information advice given\" does not match the content of the fragments, which discuss a different topic (credit and payment plans).\\n    * The question content \"Agent advises and answers client questions and concerns\" also does not match the content of the fragments, as the speakers are discussing a specific financial product and its features, rather than providing general advice or answering questions.\\n    * None of the fragments contain any mention of the words \"information,\" \"advice,\" or \"given,\" which are all present in the question title and content.\\n    \\n    Therefore, based on the analysis, none of the fragments belong to the provided question title or content.', 'status': 'COMPLETED'}\n"
     ]
    }
   ],
   "source": [
    "import requests\n",
    "\n",
    "url = 'https://api.runpod.ai/v2/a5l3dxou9z7rk8/status/8a381d08-0cd9-448e-b25d-4d614a30477a-u1'  # Replace with your URL\n",
    "bearer_token = 'IKT9GXMKUY6F3P0KOXZ5ZMEGB9EN3THWRR3I75XB'   # Replace with your bearer token\n",
    "json_body = {\n",
    "  \"input\": {\n",
    "    \"prompt\": \"\\\\nThis is a agent/client conversation. Look at QuestionTitle and QuestionContent. Then look at the time and content of fragment. Then decide if the fragment actually belongs to that question.\\\\n\\\\n<QuestionTitle[1]> Information advice given</QuestionTitle>\\\\n<QuestionContent[1]>Agent advises and answers client quesitons and concerns</QuestionContent[1]>\\\\n\\\\n31\\\\n00:09:17,300 --> 00:09:29,740\\\\nSpeaker 0: But  because  of  the  user's  credit,  it's  like,  let's  call  it  that,  it  doesn't  allow  it  to  come  down.  Yes.  Because  you're  taking  out  money  on  the  total  to  pay,  meaning  that  the  price,  these  are  the  average  rates,  will  go  a  little  bit  higher.\\\\n\\\\n32\\\\n00:09:31,280 --> 00:09:34,440\\\\nSpeaker 1: Okay.  That's  what  I  thought.  I  just  wanted  to  make  sure  I  wasn't  missing  anything.  Okay.  Thank  you.\\\\n\\\\n33\\\\n00:09:34,920 --> 00:09:37,060\\\\nSpeaker 0: Awesome,  ma 'am.  Ma 'am,  would  you  like  to  start  a  plan?\\\\n\\\\n34\\\\n00:09:39,140 --> 00:09:41,760\\\\nSpeaker 1: I'm  still  shopping,  but  thank  you  so  much.  I  just  have  questions  about  it.\\\\n\\\\n\\\\n\"\n",
    "  }\n",
    "}\n",
    "\n",
    "headers = {\n",
    "    'Authorization': f'Bearer {bearer_token}',\n",
    "    'Content-Type': 'application/json'\n",
    "}\n",
    "\n",
    "response = requests.get(url,  headers=headers)\n",
    "\n",
    "print(response.status_code)\n",
    "print(response.json())  # Or response.text if the response is not in JSON format\n"
   ]
  },
  {
   "cell_type": "code",
   "execution_count": null,
   "metadata": {},
   "outputs": [],
   "source": []
  }
 ],
 "metadata": {
  "kernelspec": {
   "display_name": "base",
   "language": "python",
   "name": "python3"
  },
  "language_info": {
   "codemirror_mode": {
    "name": "ipython",
    "version": 3
   },
   "file_extension": ".py",
   "mimetype": "text/x-python",
   "name": "python",
   "nbconvert_exporter": "python",
   "pygments_lexer": "ipython3",
   "version": "3.11.5"
  }
 },
 "nbformat": 4,
 "nbformat_minor": 2
}
