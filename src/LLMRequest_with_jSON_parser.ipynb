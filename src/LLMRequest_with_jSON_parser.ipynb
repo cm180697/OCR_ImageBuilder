{
 "cells": [
  {
   "cell_type": "code",
   "execution_count": 17,
   "metadata": {},
   "outputs": [
    {
     "name": "stdout",
     "output_type": "stream",
     "text": [
      "200\n",
      "{'id': 'e48b0fd7-2a87-4143-a194-49070489666c-u1', 'status': 'IN_QUEUE'}\n",
      "200\n",
      "{'id': 'e912b82b-dcb3-499a-bb84-e44dd3ee3cf2-u1', 'status': 'IN_QUEUE'}\n",
      "200\n",
      "{'id': '87cc3293-7483-4036-b241-2958f858a149-u1', 'status': 'IN_QUEUE'}\n",
      "200\n",
      "{'id': '7a38992d-3b84-4af3-a0b4-7c2450678104-u1', 'status': 'IN_QUEUE'}\n",
      "200\n",
      "{'id': 'd0ea4fd2-a927-4ffa-9284-911a4186d681-u1', 'status': 'IN_QUEUE'}\n"
     ]
    }
   ],
   "source": [
    "import json\n",
    "import requests\n",
    "\n",
    "def convert_to_json_dict(raw_text):\n",
    "    intro_text = (\n",
    "        \"This is an agent/client conversation. Look at QuestionTitle and QuestionContent. \"\n",
    "        \"Then look at the time and content of fragment. Then decide if the fragment actually belongs to that question.\\n\\n\"\n",
    "        \"<QuestionTitle[1]> Information advice given</QuestionTitle>\\n\"\n",
    "        \"<QuestionContent[1]>Agent advises and answers client questions and concerns</QuestionContent[1]>\\n\\n\"\n",
    "    )\n",
    "    formatted_text = intro_text + raw_text.replace('\\n', '\\\\n').replace('\"', '\\\\\"')\n",
    "    json_structure = {\"input\": {\"prompt\": formatted_text}}\n",
    "    return json_structure\n",
    "\n",
    "def read_transcript(file_path):\n",
    "    with open(file_path, 'r') as file:\n",
    "        return file.read()\n",
    "\n",
    "def split_into_chunks(transcript):\n",
    "    lines = transcript.split('\\n')\n",
    "    chunks = []\n",
    "    current_chunk = []\n",
    "    speaker_counter = 0\n",
    "\n",
    "    for line in lines:\n",
    "        if 'Speaker 0:' in line or 'Speaker 1:' in line:\n",
    "            current_chunk.append(line)\n",
    "            speaker_counter += 1\n",
    "            if speaker_counter % 4 == 0:\n",
    "                chunks.append('\\n'.join(current_chunk))\n",
    "                current_chunk = []\n",
    "    return chunks\n",
    "\n",
    "# Modify this path to your .txt file path\n",
    "file_path = 'test_transcript_chunker.txt'\n",
    "transcript = read_transcript(file_path)\n",
    "chunks = split_into_chunks(transcript)\n",
    "\n",
    "url = 'https://api.runpod.ai/v2/mf6joksuonz52l/run'\n",
    "bearer_token = 'YOUR_TOKEN_HERE'\n",
    "\n",
    "headers = {\n",
    "    'Authorization': f'Bearer {bearer_token}',\n",
    "    'Content-Type': 'application/json'\n",
    "}\n",
    "\n",
    "for chunk in chunks:\n",
    "    json_body = convert_to_json_dict(chunk)\n",
    "    response = requests.post(url, json=json_body, headers=headers)\n",
    "    print(response.status_code)\n",
    "    print(response.json())  # Or response.text if the response is not in JSON format\n"
   ]
  },
  {
   "cell_type": "code",
   "execution_count": null,
   "metadata": {},
   "outputs": [],
   "source": []
  }
 ],
 "metadata": {
  "kernelspec": {
   "display_name": "base",
   "language": "python",
   "name": "python3"
  },
  "language_info": {
   "codemirror_mode": {
    "name": "ipython",
    "version": 3
   },
   "file_extension": ".py",
   "mimetype": "text/x-python",
   "name": "python",
   "nbconvert_exporter": "python",
   "pygments_lexer": "ipython3",
   "version": "3.11.5"
  }
 },
 "nbformat": 4,
 "nbformat_minor": 2
}
