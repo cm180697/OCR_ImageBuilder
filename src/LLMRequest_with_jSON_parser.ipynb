{
 "cells": [
  {
   "cell_type": "code",
   "execution_count": 11,
   "metadata": {},
   "outputs": [],
   "source": [
    "import json\n",
    "\n",
    "def convert_to_json_dict(raw_text):\n",
    "    # Replace line breaks with \\n and escape double quotes\n",
    "    formatted_text = raw_text.replace('\\n', '\\\\n').replace('\"', '\\\\\"')\n",
    "\n",
    "    # Create the JSON structure as a dictionary\n",
    "    json_structure = {\n",
    "        \"input\": {\n",
    "            \"prompt\": formatted_text\n",
    "        }\n",
    "    }\n",
    "\n",
    "    return json_structure\n",
    "\n",
    "# Example usage\n",
    "raw_text = '''\n",
    "This is a agent/client conversation. Look at QuestionTitle and QuestionContent. Then look at the time and content of fragment. Then decide if the fragment actually belongs to that question.\n",
    "\n",
    "<QuestionTitle[1]> Information advice given</QuestionTitle>\n",
    "<QuestionContent[1]>Agent advises and answers client quesitons and concerns</QuestionContent[1]>\n",
    "\n",
    "31\n",
    "00:09:17,300 --> 00:09:29,740\n",
    "Speaker 0: But  because  of  the  user's  credit,  it's  like,  let's  call  it  that,  it  doesn't  allow  it  to  come  down.  Yes.  Because  you're  taking  out  money  on  the  total  to  pay,  meaning  that  the  price,  these  are  the  average  rates,  will  go  a  little  bit  higher.\n",
    "\n",
    "32\n",
    "00:09:31,280 --> 00:09:34,440\n",
    "Speaker 1: Okay.  That's  what  I  thought.  I  just  wanted  to  make  sure  I  wasn't  missing  anything.  Okay.  Thank  you.\n",
    "\n",
    "33\n",
    "00:09:34,920 --> 00:09:37,060\n",
    "Speaker 0: Awesome,  ma 'am.  Ma 'am,  would  you  like  to  start  a  plan?\n",
    "\n",
    "34\n",
    "00:09:39,140 --> 00:09:41,760\n",
    "Speaker 1: I'm  still  shopping,  but  thank  you  so  much.  I  just  have  questions  about  it.\n",
    "\n",
    "\n",
    "'''"
   ]
  },
  {
   "cell_type": "code",
   "execution_count": 12,
   "metadata": {},
   "outputs": [
    {
     "name": "stdout",
     "output_type": "stream",
     "text": [
      "200\n",
      "{'id': 'c4b543e0-edc0-44b7-a3ef-21aa8721ac8e-u1', 'status': 'IN_QUEUE'}\n"
     ]
    }
   ],
   "source": [
    "import requests\n",
    "\n",
    "url = 'https://api.runpod.ai/v2/a5l3dxou9z7rk8/run'  # Replace with your URL\n",
    "bearer_token = ''   # Replace with your bearer token\n",
    "json_body = convert_to_json_dict(raw_text)\n",
    "\n",
    "headers = {\n",
    "    'Authorization': f'Bearer {bearer_token}',\n",
    "    'Content-Type': 'application/json'\n",
    "}\n",
    "\n",
    "response = requests.post(url, json=json_body, headers=headers)\n",
    "\n",
    "print(response.status_code)\n",
    "print(response.json())  # Or response.text if the response is not in JSON format\n"
   ]
  },
  {
   "cell_type": "code",
   "execution_count": 6,
   "metadata": {},
   "outputs": [
    {
     "name": "stdout",
     "output_type": "stream",
     "text": [
      "200\n",
      "{'id': '723f0608-96a6-43a9-b618-7b6cac347608-u1', 'status': 'IN_QUEUE'}\n"
     ]
    }
   ],
   "source": [
    "import requests\n",
    "\n",
    "url = 'https://api.runpod.ai/v2/a5l3dxou9z7rk8/status/723f0608-96a6-43a9-b618-7b6cac347608-u1'  # Replace with your URL\n",
    "bearer_token = ''   # Replace with your bearer token\n",
    "json_body = {\n",
    "  \"input\": {\n",
    "    \"prompt\": \"\\\\nThis is a agent/client conversation. Look at QuestionTitle and QuestionContent. Then look at the time and content of fragment. Then decide if the fragment actually belongs to that question.\\\\n\\\\n<QuestionTitle[1]> Information advice given</QuestionTitle>\\\\n<QuestionContent[1]>Agent advises and answers client quesitons and concerns</QuestionContent[1]>\\\\n\\\\n31\\\\n00:09:17,300 --> 00:09:29,740\\\\nSpeaker 0: But  because  of  the  user's  credit,  it's  like,  let's  call  it  that,  it  doesn't  allow  it  to  come  down.  Yes.  Because  you're  taking  out  money  on  the  total  to  pay,  meaning  that  the  price,  these  are  the  average  rates,  will  go  a  little  bit  higher.\\\\n\\\\n32\\\\n00:09:31,280 --> 00:09:34,440\\\\nSpeaker 1: Okay.  That's  what  I  thought.  I  just  wanted  to  make  sure  I  wasn't  missing  anything.  Okay.  Thank  you.\\\\n\\\\n33\\\\n00:09:34,920 --> 00:09:37,060\\\\nSpeaker 0: Awesome,  ma 'am.  Ma 'am,  would  you  like  to  start  a  plan?\\\\n\\\\n34\\\\n00:09:39,140 --> 00:09:41,760\\\\nSpeaker 1: I'm  still  shopping,  but  thank  you  so  much.  I  just  have  questions  about  it.\\\\n\\\\n\\\\n\"\n",
    "  }\n",
    "}\n",
    "\n",
    "headers = {\n",
    "    'Authorization': f'Bearer {bearer_token}',\n",
    "    'Content-Type': 'application/json'\n",
    "}\n",
    "\n",
    "response = requests.get(url,  headers=headers)\n",
    "\n",
    "print(response.status_code)\n",
    "print(response.json())  # Or response.text if the response is not in JSON format\n"
   ]
  }
 ],
 "metadata": {
  "kernelspec": {
   "display_name": "base",
   "language": "python",
   "name": "python3"
  },
  "language_info": {
   "codemirror_mode": {
    "name": "ipython",
    "version": 3
   },
   "file_extension": ".py",
   "mimetype": "text/x-python",
   "name": "python",
   "nbconvert_exporter": "python",
   "pygments_lexer": "ipython3",
   "version": "3.11.5"
  }
 },
 "nbformat": 4,
 "nbformat_minor": 2
}
