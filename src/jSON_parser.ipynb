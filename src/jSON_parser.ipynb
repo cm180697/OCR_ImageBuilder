{
 "cells": [
  {
   "cell_type": "code",
   "execution_count": 5,
   "metadata": {},
   "outputs": [
    {
     "name": "stdout",
     "output_type": "stream",
     "text": [
      "{\n",
      "  \"input\": {\n",
      "    \"prompt\": \"\\\\nThis is a agent/client conversation. Look at QuestionTitle and QuestionContent. Then look at the time and content of fragment. Then decide if the fragment actually belongs to that question.\\\\n\\\\n<QuestionTitle[1]>Client Offering</QuestionTitle>\\\\n<QuestionContent[1]>Agent advises and offers different solutions that the company has</QuestionContent[1]>\\\\n\\\\n31\\\\n00:09:17,300 --> 00:09:29,740\\\\nSpeaker 0: But  because  of  the  user's  credit,  it's  like,  let's  call  it  that,  it  doesn't  allow  it  to  come  down.  Yes.  Because  you're  taking  out  money  on  the  total  to  pay,  meaning  that  the  price,  these  are  the  average  rates,  will  go  a  little  bit  higher.\\\\n\\\\n32\\\\n00:09:31,280 --> 00:09:34,440\\\\nSpeaker 1: Okay.  That's  what  I  thought.  I  just  wanted  to  make  sure  I  wasn't  missing  anything.  Okay.  Thank  you.\\\\n\\\\n33\\\\n00:09:34,920 --> 00:09:37,060\\\\nSpeaker 0: Awesome,  ma 'am.  Ma 'am,  would  you  like  to  start  a  plan?\\\\n\\\\n34\\\\n00:09:39,140 --> 00:09:41,760\\\\nSpeaker 1: I'm  still  shopping,  but  thank  you  so  much.  I  just  have  questions  about  it.\\\\n\\\\n\\\\n\"\n",
      "  }\n",
      "}\n"
     ]
    }
   ],
   "source": [
    "import json\n",
    "\n",
    "def convert_to_json(raw_text):\n",
    "    # Replace line breaks with \\n and escape double quotes\n",
    "    formatted_text = raw_text.replace('\\n', '\\\\n').replace('\"', '\\\\\"')\n",
    "\n",
    "    # Create the JSON structure\n",
    "    json_structure = {\n",
    "        \"input\": {\n",
    "            \"prompt\": formatted_text\n",
    "        }\n",
    "    }\n",
    "\n",
    "    # Convert the Python dictionary to a JSON string\n",
    "    json_string = json.dumps(json_structure, indent=2)\n",
    "    return json_string\n",
    "\n",
    "# Example usage\n",
    "raw_text = '''\n",
    "This is a agent/client conversation. Look at QuestionTitle and QuestionContent. Then look at the time and content of fragment. Then decide if the fragment actually belongs to that question.\n",
    "\n",
    "<QuestionTitle[1]> Information advice given</QuestionTitle>\n",
    "<QuestionContent[1]>Agent advises and answers client quesitons and concerns</QuestionContent[1]>\n",
    "\n",
    "31\n",
    "00:09:17,300 --> 00:09:29,740\n",
    "Speaker 0: But  because  of  the  user's  credit,  it's  like,  let's  call  it  that,  it  doesn't  allow  it  to  come  down.  Yes.  Because  you're  taking  out  money  on  the  total  to  pay,  meaning  that  the  price,  these  are  the  average  rates,  will  go  a  little  bit  higher.\n",
    "\n",
    "32\n",
    "00:09:31,280 --> 00:09:34,440\n",
    "Speaker 1: Okay.  That's  what  I  thought.  I  just  wanted  to  make  sure  I  wasn't  missing  anything.  Okay.  Thank  you.\n",
    "\n",
    "33\n",
    "00:09:34,920 --> 00:09:37,060\n",
    "Speaker 0: Awesome,  ma 'am.  Ma 'am,  would  you  like  to  start  a  plan?\n",
    "\n",
    "34\n",
    "00:09:39,140 --> 00:09:41,760\n",
    "Speaker 1: I'm  still  shopping,  but  thank  you  so  much.  I  just  have  questions  about  it.\n",
    "\n",
    "\n",
    "'''\n",
    "\n",
    "json_output = convert_to_json(raw_text)\n",
    "print(json_output)"
   ]
  },
  {
   "cell_type": "code",
   "execution_count": null,
   "metadata": {},
   "outputs": [],
   "source": []
  }
 ],
 "metadata": {
  "kernelspec": {
   "display_name": "base",
   "language": "python",
   "name": "python3"
  },
  "language_info": {
   "codemirror_mode": {
    "name": "ipython",
    "version": 3
   },
   "file_extension": ".py",
   "mimetype": "text/x-python",
   "name": "python",
   "nbconvert_exporter": "python",
   "pygments_lexer": "ipython3",
   "version": "3.11.5"
  }
 },
 "nbformat": 4,
 "nbformat_minor": 2
}
